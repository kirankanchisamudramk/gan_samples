{
 "cells": [
  {
   "cell_type": "code",
   "execution_count": 3,
   "id": "aff35e9a-55f5-4961-97a9-d16ea7a6cd74",
   "metadata": {},
   "outputs": [],
   "source": [
    "import torch"
   ]
  },
  {
   "cell_type": "code",
   "execution_count": 7,
   "id": "2cff16c2-f2a8-4bac-a2bd-1cdb4aca6b49",
   "metadata": {},
   "outputs": [
    {
     "name": "stdout",
     "output_type": "stream",
     "text": [
      "3.5 14.25\n",
      "12.25\n"
     ]
    }
   ],
   "source": [
    "x = 3.5\n",
    "y = x*x + 2\n",
    "print(x, y)\n",
    "print(x*x)"
   ]
  },
  {
   "cell_type": "code",
   "execution_count": 9,
   "id": "e06b5e5e-e625-4525-8946-e4687d689116",
   "metadata": {},
   "outputs": [],
   "source": [
    "a =torch.tensor(3.5)"
   ]
  },
  {
   "cell_type": "code",
   "execution_count": 11,
   "id": "81329f23-f0b5-4d84-9098-084ace337227",
   "metadata": {},
   "outputs": [
    {
     "name": "stdout",
     "output_type": "stream",
     "text": [
      "tensor(3.5000)\n"
     ]
    }
   ],
   "source": [
    "print(a)"
   ]
  },
  {
   "cell_type": "code",
   "execution_count": 13,
   "id": "016d4ec7-3f83-4e28-955e-2a0ba92b5b18",
   "metadata": {},
   "outputs": [
    {
     "name": "stdout",
     "output_type": "stream",
     "text": [
      "tensor(6.5000)\n"
     ]
    }
   ],
   "source": [
    "print(a+3)"
   ]
  },
  {
   "cell_type": "code",
   "execution_count": 15,
   "id": "df9be7d5-0ba9-4cec-aa56-fd21c05d1d20",
   "metadata": {},
   "outputs": [
    {
     "name": "stdout",
     "output_type": "stream",
     "text": [
      "tensor(13.5000)\n"
     ]
    }
   ],
   "source": [
    "x1 = torch.tensor(5.5)\n",
    "y1 = x1+8\n",
    "print(y1)"
   ]
  },
  {
   "cell_type": "code",
   "execution_count": 21,
   "id": "015cadf7-c06e-4e93-9013-6521e11b9f1f",
   "metadata": {},
   "outputs": [
    {
     "name": "stdout",
     "output_type": "stream",
     "text": [
      "x:  tensor(3.5000, requires_grad=True)\n"
     ]
    }
   ],
   "source": [
    "x = torch.tensor(3.5, requires_grad=True)\n",
    "print(\"x: \", x)"
   ]
  },
  {
   "cell_type": "code",
   "execution_count": 23,
   "id": "48a0ebe8-1f69-4198-ab93-e4c7e31ad832",
   "metadata": {},
   "outputs": [
    {
     "name": "stdout",
     "output_type": "stream",
     "text": [
      "tensor(1.8750, grad_fn=<MulBackward0>)\n"
     ]
    }
   ],
   "source": [
    "# b1 is defined as a function of a1\n",
    "y = (x-1)*(x-2)*(x-3)\n",
    "print(y)"
   ]
  },
  {
   "cell_type": "markdown",
   "id": "8507a5df-f390-4cc7-912f-497c3f5a13a4",
   "metadata": {},
   "source": [
    "We can see that y is calculated from the expression (x-1) * (x-2) * (x-3).\r\n",
    "\r\n",
    "As expected, the value of y is \r\n",
    "1.8750\r\n",
    "1.8750\r\n",
    ". This is because x is \r\n",
    "3.5\r\n",
    "3.5\r\n",
    ", so (3.5-1) * (3.5-2) * (3.5-3) is \r\n",
    "1.8750\r\n",
    "1.8750\r\n",
    ".\r\n",
    "\r\n",
    "The following graph of y = (x-1) * (x-2) * (x-3) illustrates what we’ve just calculated."
   ]
  },
  {
   "cell_type": "markdown",
   "id": "1a112eff-01bd-4fac-b950-b33cc6861693",
   "metadata": {},
   "source": [
    "#The error gradient is the rate at which the output error changes as a result of changing network link weights.\n",
    "#Automatic differentiation and gradient calculation#\n",
    "Let’s work out the gradient of y at x = 3.5. That is, \n",
    "d\n",
    "y\n",
    "d\n",
    "x\n",
    "dx\n",
    "dy\n",
    "​\n",
    " \n",
    " at x = 3.5.\n",
    "\n",
    "To do this, PyTorch needs to look at y and see which tensors it depends on, as well as the mathematical form of that dependency. It can then do the calculus to work out \n",
    "d\n",
    "y\n",
    "d\n",
    "x\n",
    "dx\n",
    "dy\n",
    "​\n",
    " \n",
    ".\n",
    "\n",
    "The following code computes the gradient of y w.r.t x:"
   ]
  },
  {
   "cell_type": "code",
   "execution_count": 29,
   "id": "f81d6216-4ece-4fd3-a9ba-0fcdd61e0b88",
   "metadata": {},
   "outputs": [],
   "source": [
    "x = torch.tensor(3.5, requires_grad=True)\n",
    "\n",
    "# y is defined as a function of x\n",
    "y = (x-1) * (x-2) * (x-3)\n",
    "\n",
    "# work out gradients\n",
    "y.backward()"
   ]
  },
  {
   "cell_type": "code",
   "execution_count": 31,
   "id": "0656754a-0335-45eb-867e-b6312c422ba1",
   "metadata": {},
   "outputs": [
    {
     "name": "stdout",
     "output_type": "stream",
     "text": [
      "Numerical value of gradient: tensor(5.7500)\n"
     ]
    }
   ],
   "source": [
    "print(\"Numerical value of gradient:\", x.grad)"
   ]
  },
  {
   "cell_type": "markdown",
   "id": "c944361d-1383-4090-b82b-5c8c93ec337f",
   "metadata": {},
   "source": [
    " computational graph showing gradient dz/dx\n",
    " y = x2\n",
    " z = 2y+3\n",
    " calculus  chain rule => dz/dx = dz/dy*dy/dx\n",
    " dz/dx = ?\n",
    " z = 2(x2)+3\n",
    " dz/dx = 2.2x\n",
    " dz/dx = 4x\n",
    " x = 3.5\n",
    " dy/dx = 4*3.5 = 14"
   ]
  },
  {
   "cell_type": "code",
   "execution_count": 40,
   "id": "00acb14a-5929-4703-9f16-88fec180038d",
   "metadata": {},
   "outputs": [
    {
     "name": "stdout",
     "output_type": "stream",
     "text": [
      "x: tensor(3.5000, requires_grad=True)\n",
      "y: tensor(12.2500, grad_fn=<MulBackward0>)\n",
      "z = 2*y+3 =  tensor(27.5000, grad_fn=<AddBackward0>)\n"
     ]
    }
   ],
   "source": [
    "x = torch.tensor(3.5, requires_grad=True)\n",
    "y = x*x\n",
    "z= 2*y+3\n",
    "print(\"x:\", x)\n",
    "print(\"y:\", y)\n",
    "print(\"z = 2*y+3 = \", z)"
   ]
  },
  {
   "cell_type": "code",
   "execution_count": 42,
   "id": "e06f545b-7afc-47a7-97d6-dc63e6005b2e",
   "metadata": {},
   "outputs": [
    {
     "name": "stdout",
     "output_type": "stream",
     "text": [
      "working out gradient dz/dx\n",
      "Gradient at x= 3.5 tensor(14.)\n"
     ]
    }
   ],
   "source": [
    "# work out gradients\n",
    "z.backward()\n",
    "print(\"working out gradient dz/dx\")\n",
    "print(\"Gradient at x= 3.5\", x.grad)"
   ]
  },
  {
   "cell_type": "markdown",
   "id": "cf457eff-ccc3-469f-bd83-91afdea9f12f",
   "metadata": {},
   "source": [
    "The answer is \r\n",
    "14\r\n",
    "14\r\n",
    ", which is exactly what we worked out by hand above. This is great!\r\n",
    "\r\n",
    "It is worth noting that the gradient value inside the \r\n",
    "x\r\n",
    "x\r\n",
    " tensor relates to how \r\n",
    "z\r\n",
    "z\r\n",
    " changes. That’s because we asked PyTorch to work backwards from z using z.backward(). So x.grad is \r\n",
    "d\r\n",
    "z\r\n",
    "d\r\n",
    "x\r\n",
    "dx\r\n",
    "dz\r\n",
    "​\r\n",
    " \r\n",
    " not \r\n",
    "d\r\n",
    "y\r\n",
    "d\r\n",
    "x\r\n",
    "dx\r\n",
    "dy\r\n",
    "​\r\n",
    " \r\n",
    "."
   ]
  },
  {
   "cell_type": "code",
   "execution_count": 45,
   "id": "5d9e77fb-8d05-4522-8449-fc1f91ccf4b7",
   "metadata": {},
   "outputs": [
    {
     "name": "stdout",
     "output_type": "stream",
     "text": [
      "working out gradient dz/da\n",
      "Gradient at a=2.0 tensor(64.)\n",
      "working out gradient dz/db\n",
      "Gradient at b=1.0 tensor(33.)\n"
     ]
    }
   ],
   "source": [
    "a = torch.tensor(2.0, requires_grad=True)\n",
    "b = torch.tensor(1.0, requires_grad=True)\n",
    "\n",
    "x = 2*a+3*b\n",
    "y = 5*a*a+3*b*b*b\n",
    "z = 2*x+3*y\n",
    "\n",
    "z.backward()\n",
    "print(\"working out gradient dz/da\")\n",
    "print(\"Gradient at a=2.0\" ,a.grad)\n",
    "print(\"working out gradient dz/db\")\n",
    "print(\"Gradient at b=1.0\" ,b.grad)"
   ]
  },
  {
   "cell_type": "code",
   "execution_count": null,
   "id": "8f7ab295-fafc-4749-9ede-3c07e9e4fff5",
   "metadata": {},
   "outputs": [],
   "source": []
  }
 ],
 "metadata": {
  "kernelspec": {
   "display_name": "Python 3 (ipykernel)",
   "language": "python",
   "name": "python3"
  },
  "language_info": {
   "codemirror_mode": {
    "name": "ipython",
    "version": 3
   },
   "file_extension": ".py",
   "mimetype": "text/x-python",
   "name": "python",
   "nbconvert_exporter": "python",
   "pygments_lexer": "ipython3",
   "version": "3.12.4"
  }
 },
 "nbformat": 4,
 "nbformat_minor": 5
}
